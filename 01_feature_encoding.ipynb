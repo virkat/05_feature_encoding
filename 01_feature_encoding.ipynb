{
 "cells": [
  {
   "cell_type": "markdown",
   "metadata": {},
   "source": [
    "# Feature Encoding"
   ]
  },
  {
   "cell_type": "markdown",
   "metadata": {},
   "source": [
    "## Numerical Variables are Scaled or Normalized\n",
    "\n",
    "## Categorical Variables are Encoded"
   ]
  },
  {
   "cell_type": "markdown",
   "metadata": {},
   "source": [
    "## Types of Encoding\n",
    "1. One Hot Encoding\n",
    "2. Label Encoding\n",
    "3. Ordinal Encoding\n",
    "4. Helmert Encoding\n",
    "5. Binary Encoding\n",
    "6. Frequency Encoding\n",
    "7. Mean Encoding\n",
    "8. Weight of Evidence Encoding\n",
    "9. Probability Ratio Encoding\n",
    "10. Hash Encoding\n",
    "11. Target Encoding\n",
    "12. Leave One Out Encoding\n",
    "13. CatBoost Encoding\n",
    "14. James-Stein Encoding\n",
    "15. M-estimator Encoding\n",
    "16. Thermometer Encoder\n",
    "17. Polynomial Encoder\n",
    "18. BaseN Encoding\n",
    "19. Backward Difference Encoding\n"
   ]
  },
  {
   "cell_type": "code",
   "execution_count": 1,
   "metadata": {},
   "outputs": [],
   "source": [
    "# Import libraries for one hot encoding\n",
    "import numpy as np\n",
    "import pandas as pd\n",
    "from sklearn.preprocessing import OneHotEncoder\n"
   ]
  },
  {
   "cell_type": "code",
   "execution_count": 2,
   "metadata": {},
   "outputs": [
    {
     "name": "stdout",
     "output_type": "stream",
     "text": [
      "   A  B\n",
      "0  a  b\n",
      "1  b  a\n",
      "2  a  c\n"
     ]
    }
   ],
   "source": [
    "# creata a dataframe\n",
    "data = pd.DataFrame({'A': ['a', 'b', 'a'], 'B': ['b', 'a', 'c']})\n",
    "print(data)"
   ]
  },
  {
   "cell_type": "code",
   "execution_count": 5,
   "metadata": {},
   "outputs": [
    {
     "name": "stdout",
     "output_type": "stream",
     "text": [
      "[[1. 0. 0. 1. 0.]\n",
      " [0. 1. 1. 0. 0.]\n",
      " [1. 0. 0. 0. 1.]]\n",
      "['A_a' 'A_b' 'B_a' 'B_b' 'B_c']\n"
     ]
    }
   ],
   "source": [
    "# create an instance of one-hot-encoder and save the encoded data in a new column\n",
    "\n",
    "encoder = OneHotEncoder()\n",
    "encoder.fit(data)\n",
    "encoded_data = encoder.transform(data).toarray()\n",
    "print(encoded_data)\n",
    "print(encoder.get_feature_names_out())\n"
   ]
  },
  {
   "cell_type": "code",
   "execution_count": 6,
   "metadata": {},
   "outputs": [
    {
     "name": "stdout",
     "output_type": "stream",
     "text": [
      "   A  B  A_encoded  B_encoded\n",
      "0  a  b          0          1\n",
      "1  b  a          1          0\n",
      "2  a  c          0          2\n"
     ]
    }
   ],
   "source": [
    "# use label encoding and save enoded data in a new column\n",
    "from sklearn.preprocessing import LabelEncoder\n",
    "label_encoder = LabelEncoder()\n",
    "data['A_encoded'] = label_encoder.fit_transform(data['A'])\n",
    "data['B_encoded'] = label_encoder.fit_transform(data['B'])\n",
    "print(data)"
   ]
  },
  {
   "cell_type": "code",
   "execution_count": 7,
   "metadata": {},
   "outputs": [
    {
     "name": "stdout",
     "output_type": "stream",
     "text": [
      "   A  B  A_encoded  B_encoded\n",
      "0  a  b        0.0        1.0\n",
      "1  b  a        1.0        0.0\n",
      "2  a  c        0.0        2.0\n"
     ]
    }
   ],
   "source": [
    "# use ordinal encoding and save enoded data in a new column\n",
    "from sklearn.preprocessing import OrdinalEncoder\n",
    "ordinal_encoder = OrdinalEncoder()\n",
    "data['A_encoded'] = ordinal_encoder.fit_transform(data[['A']])\n",
    "data['B_encoded'] = ordinal_encoder.fit_transform(data[['B']])\n",
    "print(data)\n"
   ]
  }
 ],
 "metadata": {
  "kernelspec": {
   "display_name": "python_eda",
   "language": "python",
   "name": "python3"
  },
  "language_info": {
   "codemirror_mode": {
    "name": "ipython",
    "version": 3
   },
   "file_extension": ".py",
   "mimetype": "text/x-python",
   "name": "python",
   "nbconvert_exporter": "python",
   "pygments_lexer": "ipython3",
   "version": "3.12.5"
  }
 },
 "nbformat": 4,
 "nbformat_minor": 2
}
